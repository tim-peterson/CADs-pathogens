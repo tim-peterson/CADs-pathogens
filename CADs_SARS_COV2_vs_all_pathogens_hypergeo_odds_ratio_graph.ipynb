{
  "nbformat": 4,
  "nbformat_minor": 0,
  "metadata": {
    "colab": {
      "name": "CADs_SARS_COV2 vs. all pathogens_hypergeo_odds_ratio_graph.ipynb",
      "provenance": []
    },
    "kernelspec": {
      "name": "python3",
      "display_name": "Python 3"
    }
  },
  "cells": [
    {
      "cell_type": "code",
      "metadata": {
        "colab": {
          "base_uri": "https://localhost:8080/"
        },
        "id": "G196sw0VTLT5",
        "outputId": "6a5fd9c3-06f0-4359-966d-02ff52e62b94"
      },
      "source": [
        "import pandas as pd\n",
        "import numpy as np\n",
        "! pip install seaborn\n",
        "import seaborn as sns\n",
        "! pip install xlrd # to handle Excel files\n",
        "\n",
        "\n",
        "from IPython.core.interactiveshell import InteractiveShell\n",
        "InteractiveShell.ast_node_interactivity = \"all\"\n",
        "\n",
        "\n",
        "'''! pip install pydrive\n",
        "# these classes allow you to request the Google drive API\n",
        "from pydrive.auth import GoogleAuth\n",
        "from pydrive.drive import GoogleDrive \n",
        "from google.colab import auth \n",
        "from oauth2client.client import GoogleCredentials\n",
        "\n",
        "# 1. Authenticate and create the PyDrive client.\n",
        "auth.authenticate_user()\n",
        "gauth = GoogleAuth()\n",
        "gauth.credentials = GoogleCredentials.get_application_default()\n",
        "drive = GoogleDrive(gauth)\n",
        "\n",
        "file_id = '1NhvgU9Tvfc0PxpylcggiyZAgm8jr1Uag' # sample 1PRZgZrqFchoLdXkWB-03KdesY9Gjp3Xg\n",
        "downloaded = drive.CreateFile({'id': file_id})\n",
        "# allows you to temporarily load your file in the notebook VM\n",
        "\n",
        "downloaded.GetContentFile('SARS_COV2_Enrichr_DSigDB_intersect_all_pkas_clogPs.csv')\n",
        "'''\n",
        "df = pd.read_csv(\"/Users/timpeterson/OneDrive-v3/Data/CADs/v2/SARS_COV2_Enrichr_DSigDB_intersect_all_pkas_clogPs.csv\", sep='\\t')"
      ],
      "execution_count": 2,
      "outputs": [
        {
          "output_type": "stream",
          "name": "stdout",
          "text": [
            "Collecting seaborn\n",
            "  Downloading seaborn-0.11.0-py3-none-any.whl (283 kB)\n",
            "\u001b[K     |████████████████████████████████| 283 kB 1.6 MB/s \n",
            "\u001b[?25hRequirement already satisfied: matplotlib>=2.2 in /Users/timpeterson/enter/lib/python3.8/site-packages (from seaborn) (3.2.2)\n",
            "Requirement already satisfied: pandas>=0.23 in /Users/timpeterson/enter/lib/python3.8/site-packages (from seaborn) (1.1.1)\n",
            "Requirement already satisfied: numpy>=1.15 in /Users/timpeterson/enter/lib/python3.8/site-packages (from seaborn) (1.19.1)\n",
            "Requirement already satisfied: scipy>=1.0 in /Users/timpeterson/enter/lib/python3.8/site-packages (from seaborn) (1.5.0)\n",
            "Requirement already satisfied: cycler>=0.10 in /Users/timpeterson/enter/lib/python3.8/site-packages (from matplotlib>=2.2->seaborn) (0.10.0)\n",
            "Requirement already satisfied: python-dateutil>=2.1 in /Users/timpeterson/enter/lib/python3.8/site-packages (from matplotlib>=2.2->seaborn) (2.8.1)\n",
            "Requirement already satisfied: kiwisolver>=1.0.1 in /Users/timpeterson/enter/lib/python3.8/site-packages (from matplotlib>=2.2->seaborn) (1.2.0)\n",
            "Requirement already satisfied: pyparsing!=2.0.4,!=2.1.2,!=2.1.6,>=2.0.1 in /Users/timpeterson/enter/lib/python3.8/site-packages (from matplotlib>=2.2->seaborn) (2.4.7)\n",
            "Requirement already satisfied: pytz>=2017.2 in /Users/timpeterson/enter/lib/python3.8/site-packages (from pandas>=0.23->seaborn) (2020.1)\n",
            "Requirement already satisfied: six in /Users/timpeterson/enter/lib/python3.8/site-packages (from cycler>=0.10->matplotlib>=2.2->seaborn) (1.14.0)\n",
            "Installing collected packages: seaborn\n",
            "Successfully installed seaborn-0.11.0\n",
            "Collecting xlrd\n",
            "  Downloading xlrd-1.2.0-py2.py3-none-any.whl (103 kB)\n",
            "\u001b[K     |████████████████████████████████| 103 kB 934 kB/s \n",
            "\u001b[?25hInstalling collected packages: xlrd\n",
            "Successfully installed xlrd-1.2.0\n"
          ]
        }
      ]
    },
    {
      "cell_type": "code",
      "metadata": {
        "colab": {
          "base_uri": "https://localhost:8080/",
          "height": 221
        },
        "id": "ovt4AYWNVUOU",
        "outputId": "8397b405-6175-4b60-b78f-950a4ee0de1f"
      },
      "source": [
        "df.head(7)\n",
        "df.shape"
      ],
      "execution_count": 4,
      "outputs": [
        {
          "output_type": "execute_result",
          "data": {
            "text/plain": [
              "                  name0          name_   pka_  logP_        pval_e  \\\n",
              "0    suloctidil HL60 UP     suloctidil   9.76   5.61  6.706280e-35   \n",
              "1    suloctidil HL60 UP     suloctidil   9.76   5.54  6.706280e-35   \n",
              "2   prenylamine HL60 UP    prenylamine  10.48   5.89  2.411320e-21   \n",
              "3   prenylamine HL60 UP    prenylamine  10.48   6.12  2.411320e-21   \n",
              "4  acetohexamide PC3 UP  acetohexamide  -7.40   1.72  5.725160e-19   \n",
              "5  acetohexamide PC3 UP  acetohexamide  -7.40   1.81  5.725160e-19   \n",
              "6   terfenadine HL60 UP    terfenadine   9.02   5.89  6.137660e-10   \n",
              "\n",
              "         pval_x    odds_e   odds_x  \n",
              "0  2.286630e-39  11.84090  14.0411  \n",
              "1  2.286630e-39  11.84090  14.0411  \n",
              "2  8.893920e-23  20.13730  23.3918  \n",
              "3  8.893920e-23  20.13730  23.3918  \n",
              "4  3.310350e-20  25.70890  29.8639  \n",
              "5  3.310350e-20  25.70890  29.8639  \n",
              "6  3.402690e-20   9.85507  16.1616  "
            ],
            "text/html": "<div>\n<style scoped>\n    .dataframe tbody tr th:only-of-type {\n        vertical-align: middle;\n    }\n\n    .dataframe tbody tr th {\n        vertical-align: top;\n    }\n\n    .dataframe thead th {\n        text-align: right;\n    }\n</style>\n<table border=\"1\" class=\"dataframe\">\n  <thead>\n    <tr style=\"text-align: right;\">\n      <th></th>\n      <th>name0</th>\n      <th>name_</th>\n      <th>pka_</th>\n      <th>logP_</th>\n      <th>pval_e</th>\n      <th>pval_x</th>\n      <th>odds_e</th>\n      <th>odds_x</th>\n    </tr>\n  </thead>\n  <tbody>\n    <tr>\n      <th>0</th>\n      <td>suloctidil HL60 UP</td>\n      <td>suloctidil</td>\n      <td>9.76</td>\n      <td>5.61</td>\n      <td>6.706280e-35</td>\n      <td>2.286630e-39</td>\n      <td>11.84090</td>\n      <td>14.0411</td>\n    </tr>\n    <tr>\n      <th>1</th>\n      <td>suloctidil HL60 UP</td>\n      <td>suloctidil</td>\n      <td>9.76</td>\n      <td>5.54</td>\n      <td>6.706280e-35</td>\n      <td>2.286630e-39</td>\n      <td>11.84090</td>\n      <td>14.0411</td>\n    </tr>\n    <tr>\n      <th>2</th>\n      <td>prenylamine HL60 UP</td>\n      <td>prenylamine</td>\n      <td>10.48</td>\n      <td>5.89</td>\n      <td>2.411320e-21</td>\n      <td>8.893920e-23</td>\n      <td>20.13730</td>\n      <td>23.3918</td>\n    </tr>\n    <tr>\n      <th>3</th>\n      <td>prenylamine HL60 UP</td>\n      <td>prenylamine</td>\n      <td>10.48</td>\n      <td>6.12</td>\n      <td>2.411320e-21</td>\n      <td>8.893920e-23</td>\n      <td>20.13730</td>\n      <td>23.3918</td>\n    </tr>\n    <tr>\n      <th>4</th>\n      <td>acetohexamide PC3 UP</td>\n      <td>acetohexamide</td>\n      <td>-7.40</td>\n      <td>1.72</td>\n      <td>5.725160e-19</td>\n      <td>3.310350e-20</td>\n      <td>25.70890</td>\n      <td>29.8639</td>\n    </tr>\n    <tr>\n      <th>5</th>\n      <td>acetohexamide PC3 UP</td>\n      <td>acetohexamide</td>\n      <td>-7.40</td>\n      <td>1.81</td>\n      <td>5.725160e-19</td>\n      <td>3.310350e-20</td>\n      <td>25.70890</td>\n      <td>29.8639</td>\n    </tr>\n    <tr>\n      <th>6</th>\n      <td>terfenadine HL60 UP</td>\n      <td>terfenadine</td>\n      <td>9.02</td>\n      <td>5.89</td>\n      <td>6.137660e-10</td>\n      <td>3.402690e-20</td>\n      <td>9.85507</td>\n      <td>16.1616</td>\n    </tr>\n  </tbody>\n</table>\n</div>"
          },
          "metadata": {},
          "execution_count": 4
        },
        {
          "output_type": "execute_result",
          "data": {
            "text/plain": [
              "(1688, 8)"
            ]
          },
          "metadata": {},
          "execution_count": 4
        }
      ]
    },
    {
      "cell_type": "code",
      "metadata": {
        "colab": {
          "base_uri": "https://localhost:8080/",
          "height": 686
        },
        "id": "GUxnGWzHVr10",
        "outputId": "0f742934-5e39-45c3-9b6f-0b0817b200a2"
      },
      "source": [
        "df_avg_logP = df.groupby(['name_', 'pka_', 'pval_e', 'odds_e']).mean()\n",
        "\n",
        "df0 = df_avg_logP.sort_values(by=['odds_e'], ascending=False).reset_index()\n",
        "\n",
        "df_avg_logP_0 = df.groupby(['name_', 'pval_e'], as_index=False).mean()\n",
        "\n",
        "df_avg_logP_00 = df_avg_logP_0.groupby('name_', as_index=False).filter(lambda x : len(x)>1)\n",
        "\n",
        "df_avg_logP_000 = df_avg_logP_00.groupby(['name_'], as_index=False).mean()\n",
        "\n",
        "\n",
        "#df_avg_logP.head()\n",
        "#df_avg_logP.shape\n",
        "\n",
        "df0.head()\n",
        "df0.columns"
      ],
      "execution_count": 41,
      "outputs": [
        {
          "output_type": "execute_result",
          "data": {
            "text/plain": [
              "              name_   pka_        pval_e    odds_e  logP_        pval_x  \\\n",
              "0     acetohexamide  -7.40  5.725160e-19  25.70890  1.765  3.310350e-20   \n",
              "1       prenylamine  10.48  2.411320e-21  20.13730  6.005  8.893920e-23   \n",
              "2        suloctidil   9.76  6.706280e-35  11.84090  5.575  2.286630e-39   \n",
              "3       terfenadine   9.02  6.137660e-10   9.85507  6.185  3.402690e-20   \n",
              "4  prochlorperazine   8.39  3.731190e-09   9.59520  4.525  2.754210e-10   \n",
              "\n",
              "    odds_x  \n",
              "0  29.8639  \n",
              "1  23.3918  \n",
              "2  14.0411  \n",
              "3  16.1616  \n",
              "4  11.1459  "
            ],
            "text/html": "<div>\n<style scoped>\n    .dataframe tbody tr th:only-of-type {\n        vertical-align: middle;\n    }\n\n    .dataframe tbody tr th {\n        vertical-align: top;\n    }\n\n    .dataframe thead th {\n        text-align: right;\n    }\n</style>\n<table border=\"1\" class=\"dataframe\">\n  <thead>\n    <tr style=\"text-align: right;\">\n      <th></th>\n      <th>name_</th>\n      <th>pka_</th>\n      <th>pval_e</th>\n      <th>odds_e</th>\n      <th>logP_</th>\n      <th>pval_x</th>\n      <th>odds_x</th>\n    </tr>\n  </thead>\n  <tbody>\n    <tr>\n      <th>0</th>\n      <td>acetohexamide</td>\n      <td>-7.40</td>\n      <td>5.725160e-19</td>\n      <td>25.70890</td>\n      <td>1.765</td>\n      <td>3.310350e-20</td>\n      <td>29.8639</td>\n    </tr>\n    <tr>\n      <th>1</th>\n      <td>prenylamine</td>\n      <td>10.48</td>\n      <td>2.411320e-21</td>\n      <td>20.13730</td>\n      <td>6.005</td>\n      <td>8.893920e-23</td>\n      <td>23.3918</td>\n    </tr>\n    <tr>\n      <th>2</th>\n      <td>suloctidil</td>\n      <td>9.76</td>\n      <td>6.706280e-35</td>\n      <td>11.84090</td>\n      <td>5.575</td>\n      <td>2.286630e-39</td>\n      <td>14.0411</td>\n    </tr>\n    <tr>\n      <th>3</th>\n      <td>terfenadine</td>\n      <td>9.02</td>\n      <td>6.137660e-10</td>\n      <td>9.85507</td>\n      <td>6.185</td>\n      <td>3.402690e-20</td>\n      <td>16.1616</td>\n    </tr>\n    <tr>\n      <th>4</th>\n      <td>prochlorperazine</td>\n      <td>8.39</td>\n      <td>3.731190e-09</td>\n      <td>9.59520</td>\n      <td>4.525</td>\n      <td>2.754210e-10</td>\n      <td>11.1459</td>\n    </tr>\n  </tbody>\n</table>\n</div>"
          },
          "metadata": {},
          "execution_count": 41
        },
        {
          "output_type": "execute_result",
          "data": {
            "text/plain": [
              "Index(['name_', 'pka_', 'pval_e', 'odds_e', 'logP_', 'pval_x', 'odds_x'], dtype='object')"
            ]
          },
          "metadata": {},
          "execution_count": 41
        }
      ]
    },
    {
      "cell_type": "code",
      "metadata": {
        "colab": {
          "base_uri": "https://localhost:8080/"
        },
        "id": "MSaSNOnlZ-eO",
        "outputId": "8d11d49e-0a3d-401b-b6b5-13ccbe5e9140"
      },
      "source": [
        "df1 = df0.loc[(df0['pka_'] > 8) & (df0['pka_'] < 12) & (df0['logP_'] > 3)]\n",
        "df2 = df0.loc[(df0['pka_'] > 8) & (df0['pka_'] < 12) & (df0['logP_'] > 3) & (df0['pval_e'] < 0.05)]\n",
        "df1.shape[0]\n",
        "print(\"-\")\n",
        "df2.shape[0]\n",
        "print(\"-\")\n",
        "df3 = df0.loc[(df0['pka_'] <= 8) | (df0['pka_'] >= 12) | (df0['logP_'] <= 3)]\n",
        "df4 = df0.loc[((df0['pka_'] <= 8) | (df0['pka_'] >= 12) | (df0['logP_'] <= 3)) & (df0['pval_e'] < 0.05)]\n",
        "df3.shape[0]\n",
        "print(\"-\")\n",
        "df4.shape[0]\n",
        "\n",
        "N = 2608\n",
        "n = 363\n",
        "#df_avg_logP.loc[(df_avg_logP['pka_'] > 8 & df_avg_logP['pka_'] < 12 & df_avg_logP['logP_mean'] > 3)].count()"
      ],
      "execution_count": 6,
      "outputs": [
        {
          "output_type": "execute_result",
          "data": {
            "text/plain": [
              "153"
            ]
          },
          "metadata": {},
          "execution_count": 6
        },
        {
          "output_type": "stream",
          "name": "stdout",
          "text": [
            "-\n"
          ]
        },
        {
          "output_type": "execute_result",
          "data": {
            "text/plain": [
              "8"
            ]
          },
          "metadata": {},
          "execution_count": 6
        },
        {
          "output_type": "stream",
          "name": "stdout",
          "text": [
            "-\n"
          ]
        },
        {
          "output_type": "execute_result",
          "data": {
            "text/plain": [
              "689"
            ]
          },
          "metadata": {},
          "execution_count": 6
        },
        {
          "output_type": "stream",
          "name": "stdout",
          "text": [
            "-\n"
          ]
        },
        {
          "output_type": "execute_result",
          "data": {
            "text/plain": [
              "3"
            ]
          },
          "metadata": {},
          "execution_count": 6
        }
      ]
    },
    {
      "cell_type": "code",
      "metadata": {
        "colab": {
          "base_uri": "https://localhost:8080/"
        },
        "id": "icIJsYy3eQ2i",
        "outputId": "883ddd81-377e-4dce-8463-77fd3b7dc868"
      },
      "source": [
        "import scipy.stats as stats   \n",
        "stats.hypergeom.sf(8,2806,11,363, loc=0)\n",
        "#pvalue = 1-stats.hypergeom.cdf(45, 7518, 92. 1329)\n",
        "#stats.hypergeom.sf(x,M,n,N,loc=0)"
      ],
      "execution_count": 32,
      "outputs": [
        {
          "output_type": "execute_result",
          "data": {
            "text/plain": [
              "4.017099380786414e-07"
            ]
          },
          "metadata": {},
          "execution_count": 32
        }
      ]
    },
    {
      "cell_type": "code",
      "metadata": {
        "id": "PGVoJMb30aGo"
      },
      "source": [
        "'''file_id = '1PRZgZrqFchoLdXkWB-03KdesY9Gjp3Xg' # sample \n",
        "downloaded = drive.CreateFile({'id': file_id})\n",
        "# allows you to temporarily load your file in the notebook VM\n",
        "\n",
        "downloaded.GetContentFile('all_pathogens_Enrichr_DSigDB_intersect_all_pkas_clogPs.csv')\n",
        "'''\n",
        "\n",
        "df_all = pd.read_csv(\"/Users/timpeterson/OneDrive-v3/Data/CADs/v2/all_pathogens_Enrichr_DSigDB_intersect_all_pkas_clogPs.csv\", sep='\\t')\n",
        "\n",
        "#df_all = pd.read_csv(\"/Users/timpeterson/OneDrive-v3/Data/CADs/v2/all_pathogens_Enrichr_DSigDB_intersect_all_pkas_clogPs_475genes.csv\", sep='\\t')"
      ],
      "execution_count": 42,
      "outputs": [
        {
          "output_type": "execute_result",
          "data": {
            "text/plain": [
              "\"file_id = '1PRZgZrqFchoLdXkWB-03KdesY9Gjp3Xg' # sample \\ndownloaded = drive.CreateFile({'id': file_id})\\n# allows you to temporarily load your file in the notebook VM\\n\\ndownloaded.GetContentFile('all_pathogens_Enrichr_DSigDB_intersect_all_pkas_clogPs.csv')\\n\""
            ]
          },
          "metadata": {},
          "execution_count": 42
        }
      ]
    },
    {
      "cell_type": "code",
      "metadata": {
        "colab": {
          "base_uri": "https://localhost:8080/",
          "height": 686
        },
        "id": "CvPdxHBK0nOH",
        "outputId": "bd3912e6-973d-4d15-bbd6-4cc2d4c19291"
      },
      "source": [
        "df_avg_logP_all = df_all.groupby(['name_', 'pka_', 'pval_e', 'odds_e']).mean()\n",
        "\n",
        "df_avg_logP_all0 = df_all.groupby(['name_', 'pval_e'], as_index=False).mean()\n",
        "\n",
        "df_avg_logP_all00 = df_avg_logP_all0.groupby('name_', as_index=False).filter(lambda x : len(x)>1)\n",
        "\n",
        "\n",
        "df_avg_logP_all0_sorted = df_avg_logP_all00.sort_values(by=['odds_e'], ascending=False).reset_index()\n",
        "\n",
        "df_avg_logP_all00_first = df_avg_logP_all0_sorted.groupby('name_', as_index=False).first()\n",
        "\n",
        "\n",
        "df_avg_logP_all000 = df_avg_logP_all00.groupby(['name_'], as_index=False).mean()\n",
        "\n",
        "\n",
        "df0_all = df_avg_logP_all.sort_values(by=['odds_e'], ascending=False).reset_index()\n",
        "\n",
        "df00_all = df_avg_logP_all0.sort_values(by=['odds_e'], ascending=False).reset_index()\n",
        "\n",
        "df000_all = df_avg_logP_all00.sort_values(by=['odds_e'], ascending=False).reset_index()\n",
        "\n",
        "df0000_all = df_avg_logP_all000.sort_values(by=['odds_e'], ascending=False).reset_index()\n",
        "\n",
        "\n",
        "#df_avg_logP.head()\n",
        "#df_avg_logP.shape\n",
        "\n",
        "df0_all.head(10)\n",
        "df0_all.columns\n",
        "df0_all.shape\n",
        "\n",
        "\n",
        "df00_all.head(10)\n",
        "df00_all.columns\n",
        "df00_all.shape\n",
        "\n",
        "\n",
        "df000_all.head(10)\n",
        "df000_all.columns\n",
        "df000_all.shape\n",
        "\n",
        "\n",
        "df0000_all.head(10)\n",
        "df0000_all.columns\n",
        "df0000_all.shape"
      ],
      "execution_count": 45,
      "outputs": [
        {
          "output_type": "execute_result",
          "data": {
            "text/plain": [
              "            name_   pka_        pval_e   odds_e  logP_\n",
              "0   acetohexamide  -7.40  2.697840e-32  57.5871  1.765\n",
              "1      benfluorex   9.14  7.719630e-31  47.9562  4.590\n",
              "2     ticlopidine   7.31  1.566320e-21  45.1535  4.225\n",
              "3        bepridil   9.16  1.872580e-27  41.3907  5.410\n",
              "4    cloperastine   8.82  6.690380e-18  40.9965  5.095\n",
              "5     prenylamine  10.48  3.004630e-27  36.5981  6.005\n",
              "6         BENZOYL  -7.20  3.860420e-08  36.1228  3.350\n",
              "7  glutaraldehyde  -6.60  3.868010e-08  36.1228  0.330\n",
              "8      suloctidil   9.76  1.115990e-35  35.6597  5.575\n",
              "9     terfenadine   9.02  1.363230e-40  35.3201  6.185"
            ],
            "text/html": "<div>\n<style scoped>\n    .dataframe tbody tr th:only-of-type {\n        vertical-align: middle;\n    }\n\n    .dataframe tbody tr th {\n        vertical-align: top;\n    }\n\n    .dataframe thead th {\n        text-align: right;\n    }\n</style>\n<table border=\"1\" class=\"dataframe\">\n  <thead>\n    <tr style=\"text-align: right;\">\n      <th></th>\n      <th>name_</th>\n      <th>pka_</th>\n      <th>pval_e</th>\n      <th>odds_e</th>\n      <th>logP_</th>\n    </tr>\n  </thead>\n  <tbody>\n    <tr>\n      <th>0</th>\n      <td>acetohexamide</td>\n      <td>-7.40</td>\n      <td>2.697840e-32</td>\n      <td>57.5871</td>\n      <td>1.765</td>\n    </tr>\n    <tr>\n      <th>1</th>\n      <td>benfluorex</td>\n      <td>9.14</td>\n      <td>7.719630e-31</td>\n      <td>47.9562</td>\n      <td>4.590</td>\n    </tr>\n    <tr>\n      <th>2</th>\n      <td>ticlopidine</td>\n      <td>7.31</td>\n      <td>1.566320e-21</td>\n      <td>45.1535</td>\n      <td>4.225</td>\n    </tr>\n    <tr>\n      <th>3</th>\n      <td>bepridil</td>\n      <td>9.16</td>\n      <td>1.872580e-27</td>\n      <td>41.3907</td>\n      <td>5.410</td>\n    </tr>\n    <tr>\n      <th>4</th>\n      <td>cloperastine</td>\n      <td>8.82</td>\n      <td>6.690380e-18</td>\n      <td>40.9965</td>\n      <td>5.095</td>\n    </tr>\n    <tr>\n      <th>5</th>\n      <td>prenylamine</td>\n      <td>10.48</td>\n      <td>3.004630e-27</td>\n      <td>36.5981</td>\n      <td>6.005</td>\n    </tr>\n    <tr>\n      <th>6</th>\n      <td>BENZOYL</td>\n      <td>-7.20</td>\n      <td>3.860420e-08</td>\n      <td>36.1228</td>\n      <td>3.350</td>\n    </tr>\n    <tr>\n      <th>7</th>\n      <td>glutaraldehyde</td>\n      <td>-6.60</td>\n      <td>3.868010e-08</td>\n      <td>36.1228</td>\n      <td>0.330</td>\n    </tr>\n    <tr>\n      <th>8</th>\n      <td>suloctidil</td>\n      <td>9.76</td>\n      <td>1.115990e-35</td>\n      <td>35.6597</td>\n      <td>5.575</td>\n    </tr>\n    <tr>\n      <th>9</th>\n      <td>terfenadine</td>\n      <td>9.02</td>\n      <td>1.363230e-40</td>\n      <td>35.3201</td>\n      <td>6.185</td>\n    </tr>\n  </tbody>\n</table>\n</div>"
          },
          "metadata": {},
          "execution_count": 45
        },
        {
          "output_type": "execute_result",
          "data": {
            "text/plain": [
              "Index(['name_', 'pka_', 'pval_e', 'odds_e', 'logP_'], dtype='object')"
            ]
          },
          "metadata": {},
          "execution_count": 45
        },
        {
          "output_type": "execute_result",
          "data": {
            "text/plain": [
              "(1741, 5)"
            ]
          },
          "metadata": {},
          "execution_count": 45
        },
        {
          "output_type": "execute_result",
          "data": {
            "text/plain": [
              "   index           name_        pval_e   pka_  logP_   odds_e\n",
              "0    447   acetohexamide  2.697840e-32  -7.40  1.765  57.5871\n",
              "1    541      benfluorex  7.719630e-31   9.14  4.590  47.9562\n",
              "2   1637     ticlopidine  1.566320e-21   7.31  4.225  45.1535\n",
              "3    557        bepridil  1.872580e-27   9.16  5.410  41.3907\n",
              "4    723    cloperastine  6.690380e-18   8.82  5.095  40.9965\n",
              "5   1431     prenylamine  3.004630e-27  10.48  6.005  36.5981\n",
              "6     51         BENZOYL  3.860420e-08  -7.20  3.350  36.1228\n",
              "7   1004  glutaraldehyde  3.868010e-08  -6.60  0.330  36.1228\n",
              "8   1590      suloctidil  1.115990e-35   9.76  5.575  35.6597\n",
              "9   1613     terfenadine  1.363230e-40   9.02  6.185  35.3201"
            ],
            "text/html": "<div>\n<style scoped>\n    .dataframe tbody tr th:only-of-type {\n        vertical-align: middle;\n    }\n\n    .dataframe tbody tr th {\n        vertical-align: top;\n    }\n\n    .dataframe thead th {\n        text-align: right;\n    }\n</style>\n<table border=\"1\" class=\"dataframe\">\n  <thead>\n    <tr style=\"text-align: right;\">\n      <th></th>\n      <th>index</th>\n      <th>name_</th>\n      <th>pval_e</th>\n      <th>pka_</th>\n      <th>logP_</th>\n      <th>odds_e</th>\n    </tr>\n  </thead>\n  <tbody>\n    <tr>\n      <th>0</th>\n      <td>447</td>\n      <td>acetohexamide</td>\n      <td>2.697840e-32</td>\n      <td>-7.40</td>\n      <td>1.765</td>\n      <td>57.5871</td>\n    </tr>\n    <tr>\n      <th>1</th>\n      <td>541</td>\n      <td>benfluorex</td>\n      <td>7.719630e-31</td>\n      <td>9.14</td>\n      <td>4.590</td>\n      <td>47.9562</td>\n    </tr>\n    <tr>\n      <th>2</th>\n      <td>1637</td>\n      <td>ticlopidine</td>\n      <td>1.566320e-21</td>\n      <td>7.31</td>\n      <td>4.225</td>\n      <td>45.1535</td>\n    </tr>\n    <tr>\n      <th>3</th>\n      <td>557</td>\n      <td>bepridil</td>\n      <td>1.872580e-27</td>\n      <td>9.16</td>\n      <td>5.410</td>\n      <td>41.3907</td>\n    </tr>\n    <tr>\n      <th>4</th>\n      <td>723</td>\n      <td>cloperastine</td>\n      <td>6.690380e-18</td>\n      <td>8.82</td>\n      <td>5.095</td>\n      <td>40.9965</td>\n    </tr>\n    <tr>\n      <th>5</th>\n      <td>1431</td>\n      <td>prenylamine</td>\n      <td>3.004630e-27</td>\n      <td>10.48</td>\n      <td>6.005</td>\n      <td>36.5981</td>\n    </tr>\n    <tr>\n      <th>6</th>\n      <td>51</td>\n      <td>BENZOYL</td>\n      <td>3.860420e-08</td>\n      <td>-7.20</td>\n      <td>3.350</td>\n      <td>36.1228</td>\n    </tr>\n    <tr>\n      <th>7</th>\n      <td>1004</td>\n      <td>glutaraldehyde</td>\n      <td>3.868010e-08</td>\n      <td>-6.60</td>\n      <td>0.330</td>\n      <td>36.1228</td>\n    </tr>\n    <tr>\n      <th>8</th>\n      <td>1590</td>\n      <td>suloctidil</td>\n      <td>1.115990e-35</td>\n      <td>9.76</td>\n      <td>5.575</td>\n      <td>35.6597</td>\n    </tr>\n    <tr>\n      <th>9</th>\n      <td>1613</td>\n      <td>terfenadine</td>\n      <td>1.363230e-40</td>\n      <td>9.02</td>\n      <td>6.185</td>\n      <td>35.3201</td>\n    </tr>\n  </tbody>\n</table>\n</div>"
          },
          "metadata": {},
          "execution_count": 45
        },
        {
          "output_type": "execute_result",
          "data": {
            "text/plain": [
              "Index(['index', 'name_', 'pval_e', 'pka_', 'logP_', 'odds_e'], dtype='object')"
            ]
          },
          "metadata": {},
          "execution_count": 45
        },
        {
          "output_type": "execute_result",
          "data": {
            "text/plain": [
              "(1726, 6)"
            ]
          },
          "metadata": {},
          "execution_count": 45
        },
        {
          "output_type": "execute_result",
          "data": {
            "text/plain": [
              "   index         name_        pval_e   pka_  logP_   odds_e\n",
              "0    541    benfluorex  7.719630e-31   9.14  4.590  47.9562\n",
              "1   1637   ticlopidine  1.566320e-21   7.31  4.225  45.1535\n",
              "2    557      bepridil  1.872580e-27   9.16  5.410  41.3907\n",
              "3    723  cloperastine  6.690380e-18   8.82  5.095  40.9965\n",
              "4   1431   prenylamine  3.004630e-27  10.48  6.005  36.5981\n",
              "5   1590    suloctidil  1.115990e-35   9.76  5.575  35.6597\n",
              "6   1613   terfenadine  1.363230e-40   9.02  6.185  35.3201\n",
              "7   1432    primaquine  3.456530e-24  10.20  2.200  34.9522\n",
              "8   1454      propofol  2.645150e-33  -5.00  3.985  33.1126\n",
              "9    571     bisacodyl  2.169520e-19   4.08  4.160  31.1648"
            ],
            "text/html": "<div>\n<style scoped>\n    .dataframe tbody tr th:only-of-type {\n        vertical-align: middle;\n    }\n\n    .dataframe tbody tr th {\n        vertical-align: top;\n    }\n\n    .dataframe thead th {\n        text-align: right;\n    }\n</style>\n<table border=\"1\" class=\"dataframe\">\n  <thead>\n    <tr style=\"text-align: right;\">\n      <th></th>\n      <th>index</th>\n      <th>name_</th>\n      <th>pval_e</th>\n      <th>pka_</th>\n      <th>logP_</th>\n      <th>odds_e</th>\n    </tr>\n  </thead>\n  <tbody>\n    <tr>\n      <th>0</th>\n      <td>541</td>\n      <td>benfluorex</td>\n      <td>7.719630e-31</td>\n      <td>9.14</td>\n      <td>4.590</td>\n      <td>47.9562</td>\n    </tr>\n    <tr>\n      <th>1</th>\n      <td>1637</td>\n      <td>ticlopidine</td>\n      <td>1.566320e-21</td>\n      <td>7.31</td>\n      <td>4.225</td>\n      <td>45.1535</td>\n    </tr>\n    <tr>\n      <th>2</th>\n      <td>557</td>\n      <td>bepridil</td>\n      <td>1.872580e-27</td>\n      <td>9.16</td>\n      <td>5.410</td>\n      <td>41.3907</td>\n    </tr>\n    <tr>\n      <th>3</th>\n      <td>723</td>\n      <td>cloperastine</td>\n      <td>6.690380e-18</td>\n      <td>8.82</td>\n      <td>5.095</td>\n      <td>40.9965</td>\n    </tr>\n    <tr>\n      <th>4</th>\n      <td>1431</td>\n      <td>prenylamine</td>\n      <td>3.004630e-27</td>\n      <td>10.48</td>\n      <td>6.005</td>\n      <td>36.5981</td>\n    </tr>\n    <tr>\n      <th>5</th>\n      <td>1590</td>\n      <td>suloctidil</td>\n      <td>1.115990e-35</td>\n      <td>9.76</td>\n      <td>5.575</td>\n      <td>35.6597</td>\n    </tr>\n    <tr>\n      <th>6</th>\n      <td>1613</td>\n      <td>terfenadine</td>\n      <td>1.363230e-40</td>\n      <td>9.02</td>\n      <td>6.185</td>\n      <td>35.3201</td>\n    </tr>\n    <tr>\n      <th>7</th>\n      <td>1432</td>\n      <td>primaquine</td>\n      <td>3.456530e-24</td>\n      <td>10.20</td>\n      <td>2.200</td>\n      <td>34.9522</td>\n    </tr>\n    <tr>\n      <th>8</th>\n      <td>1454</td>\n      <td>propofol</td>\n      <td>2.645150e-33</td>\n      <td>-5.00</td>\n      <td>3.985</td>\n      <td>33.1126</td>\n    </tr>\n    <tr>\n      <th>9</th>\n      <td>571</td>\n      <td>bisacodyl</td>\n      <td>2.169520e-19</td>\n      <td>4.08</td>\n      <td>4.160</td>\n      <td>31.1648</td>\n    </tr>\n  </tbody>\n</table>\n</div>"
          },
          "metadata": {},
          "execution_count": 45
        },
        {
          "output_type": "execute_result",
          "data": {
            "text/plain": [
              "Index(['index', 'name_', 'pval_e', 'pka_', 'logP_', 'odds_e'], dtype='object')"
            ]
          },
          "metadata": {},
          "execution_count": 45
        },
        {
          "output_type": "execute_result",
          "data": {
            "text/plain": [
              "(1197, 6)"
            ]
          },
          "metadata": {},
          "execution_count": 45
        },
        {
          "output_type": "execute_result",
          "data": {
            "text/plain": [
              "   index         name_        pval_e   pka_  logP_     odds_e\n",
              "0    374    suloctidil  2.178930e-34   9.76  5.575  27.883833\n",
              "1     92      bepridil  1.393360e-02   9.16  5.410  27.252180\n",
              "2     87    benfluorex  5.511050e-02   9.14  4.590  26.525220\n",
              "3    387   ticlopidine  3.161355e-02   7.31  4.225  26.255925\n",
              "4    334   prenylamine  1.001545e-27  10.48  6.005  24.792900\n",
              "5    401    vanoxerine  1.000550e-20   8.58  5.570  24.617650\n",
              "6    350  quinisocaine  4.355526e-14   8.64  3.915  20.677950\n",
              "7    208   fluticasone  1.802136e-12  -3.40  2.635  20.260300\n",
              "8    140  cloperastine  1.849900e-01   8.82  5.095  20.020823\n",
              "9    396  trimipramine  3.106545e-09   9.42  4.715  19.990200"
            ],
            "text/html": "<div>\n<style scoped>\n    .dataframe tbody tr th:only-of-type {\n        vertical-align: middle;\n    }\n\n    .dataframe tbody tr th {\n        vertical-align: top;\n    }\n\n    .dataframe thead th {\n        text-align: right;\n    }\n</style>\n<table border=\"1\" class=\"dataframe\">\n  <thead>\n    <tr style=\"text-align: right;\">\n      <th></th>\n      <th>index</th>\n      <th>name_</th>\n      <th>pval_e</th>\n      <th>pka_</th>\n      <th>logP_</th>\n      <th>odds_e</th>\n    </tr>\n  </thead>\n  <tbody>\n    <tr>\n      <th>0</th>\n      <td>374</td>\n      <td>suloctidil</td>\n      <td>2.178930e-34</td>\n      <td>9.76</td>\n      <td>5.575</td>\n      <td>27.883833</td>\n    </tr>\n    <tr>\n      <th>1</th>\n      <td>92</td>\n      <td>bepridil</td>\n      <td>1.393360e-02</td>\n      <td>9.16</td>\n      <td>5.410</td>\n      <td>27.252180</td>\n    </tr>\n    <tr>\n      <th>2</th>\n      <td>87</td>\n      <td>benfluorex</td>\n      <td>5.511050e-02</td>\n      <td>9.14</td>\n      <td>4.590</td>\n      <td>26.525220</td>\n    </tr>\n    <tr>\n      <th>3</th>\n      <td>387</td>\n      <td>ticlopidine</td>\n      <td>3.161355e-02</td>\n      <td>7.31</td>\n      <td>4.225</td>\n      <td>26.255925</td>\n    </tr>\n    <tr>\n      <th>4</th>\n      <td>334</td>\n      <td>prenylamine</td>\n      <td>1.001545e-27</td>\n      <td>10.48</td>\n      <td>6.005</td>\n      <td>24.792900</td>\n    </tr>\n    <tr>\n      <th>5</th>\n      <td>401</td>\n      <td>vanoxerine</td>\n      <td>1.000550e-20</td>\n      <td>8.58</td>\n      <td>5.570</td>\n      <td>24.617650</td>\n    </tr>\n    <tr>\n      <th>6</th>\n      <td>350</td>\n      <td>quinisocaine</td>\n      <td>4.355526e-14</td>\n      <td>8.64</td>\n      <td>3.915</td>\n      <td>20.677950</td>\n    </tr>\n    <tr>\n      <th>7</th>\n      <td>208</td>\n      <td>fluticasone</td>\n      <td>1.802136e-12</td>\n      <td>-3.40</td>\n      <td>2.635</td>\n      <td>20.260300</td>\n    </tr>\n    <tr>\n      <th>8</th>\n      <td>140</td>\n      <td>cloperastine</td>\n      <td>1.849900e-01</td>\n      <td>8.82</td>\n      <td>5.095</td>\n      <td>20.020823</td>\n    </tr>\n    <tr>\n      <th>9</th>\n      <td>396</td>\n      <td>trimipramine</td>\n      <td>3.106545e-09</td>\n      <td>9.42</td>\n      <td>4.715</td>\n      <td>19.990200</td>\n    </tr>\n  </tbody>\n</table>\n</div>"
          },
          "metadata": {},
          "execution_count": 45
        },
        {
          "output_type": "execute_result",
          "data": {
            "text/plain": [
              "Index(['index', 'name_', 'pval_e', 'pka_', 'logP_', 'odds_e'], dtype='object')"
            ]
          },
          "metadata": {},
          "execution_count": 45
        },
        {
          "output_type": "execute_result",
          "data": {
            "text/plain": [
              "(411, 6)"
            ]
          },
          "metadata": {},
          "execution_count": 45
        }
      ]
    },
    {
      "cell_type": "code",
      "execution_count": 33,
      "metadata": {},
      "outputs": [],
      "source": [
        "df0_all.to_csv('/Users/timpeterson/OneDrive-v3/Data/CADs/v2/for_graphpad_all_pathogens_ge_CADs_nonCADs_for_volcano_plot.csv', index=False)"
      ]
    },
    {
      "cell_type": "code",
      "metadata": {
        "colab": {
          "base_uri": "https://localhost:8080/"
        },
        "id": "IhA5_tSK12SW",
        "outputId": "7ae25889-9057-432e-ca72-d2fb4fdd1176"
      },
      "source": [
        "'''df1_all = df0_all.loc[(df0_all['pka_'] > 8) & (df0_all['pka_'] < 12) & (df0_all['logP_'] > 3)]\n",
        "df2_all = df0_all.loc[(df0_all['pka_'] > 8) & (df0_all['pka_'] < 12) & (df0_all['logP_'] > 3) & (df0_all['odds_e'] > 29) & (df0_all['pval_e'] < 1e-10)] # & (df0_all['odds_e'] > 30)\n",
        "#df1.shape[0]\n",
        "print(\"-\")\n",
        "df2_all.shape[0]\n",
        "print(\"-\")\n",
        "df3_all = df0_all.loc[(df0_all['pka_'] <= 8) | (df0_all['pka_'] >= 12) | (df0_all['logP_'] <= 3)]\n",
        "df4_all = df0_all.loc[((df0_all['pka_'] <= 8) | (df0_all['pka_'] >= 12) | (df0_all['logP_'] <= 3)) & (df0_all['odds_e'] > 29) & (df0_all['pval_e'] < 1e-10)  ] # & (df0_all['odds_e'] > 30)\n",
        "#df3.shape[0]\n",
        "#print(\"-\")\n",
        "df4_all.shape[0]\n",
        "'''\n",
        "\n",
        "df1_all = df0_all.loc[(df0_all['pka_'] > 8) & (df0_all['pka_'] < 12) & (df0_all['logP_'] > 3)]\n",
        "df2_all = df0_all.loc[(df0_all['pka_'] > 8) & (df0_all['pka_'] < 12) & (df0_all['logP_'] > 2) & (df0_all['odds_e'] > 20) & (df0_all['pval_e'] < 1e-10)] # & (df0_all['odds_e'] > 30)\n",
        "#df1.shape[0]\n",
        "print(\"-\")\n",
        "df2_all.shape[0]\n",
        "print(\"-\")\n",
        "df3_all = df0_all.loc[(df0_all['pka_'] <= 8) | (df0_all['pka_'] >= 12) | (df0_all['logP_'] <= 3)]\n",
        "df4_all = df0_all.loc[((df0_all['pka_'] <= 8) | (df0_all['pka_'] >= 12) | (df0_all['logP_'] <= 2)) & (df0_all['odds_e'] > 20) & (df0_all['pval_e'] < 1e-10)  ] # & (df0_all['odds_e'] > 30)\n",
        "#df3.shape[0]\n",
        "#print(\"-\")\n",
        "df4_all.shape[0]\n",
        "\n",
        "\n",
        "N = 2608\n",
        "n = 363\n",
        "#df_avg_logP.loc[(df_avg_logP['pka_'] > 8 & df_avg_logP['pka_'] < 12 & df_avg_logP['logP_mean'] > 3)].count()"
      ],
      "execution_count": 26,
      "outputs": [
        {
          "output_type": "execute_result",
          "data": {
            "text/plain": [
              "'df1_all = df0_all.loc[(df0_all[\\'pka_\\'] > 8) & (df0_all[\\'pka_\\'] < 12) & (df0_all[\\'logP_\\'] > 3)]\\ndf2_all = df0_all.loc[(df0_all[\\'pka_\\'] > 8) & (df0_all[\\'pka_\\'] < 12) & (df0_all[\\'logP_\\'] > 3) & (df0_all[\\'odds_e\\'] > 29) & (df0_all[\\'pval_e\\'] < 1e-10)] # & (df0_all[\\'odds_e\\'] > 30)\\n#df1.shape[0]\\nprint(\"-\")\\ndf2_all.shape[0]\\nprint(\"-\")\\ndf3_all = df0_all.loc[(df0_all[\\'pka_\\'] <= 8) | (df0_all[\\'pka_\\'] >= 12) | (df0_all[\\'logP_\\'] <= 3)]\\ndf4_all = df0_all.loc[((df0_all[\\'pka_\\'] <= 8) | (df0_all[\\'pka_\\'] >= 12) | (df0_all[\\'logP_\\'] <= 3)) & (df0_all[\\'odds_e\\'] > 29) & (df0_all[\\'pval_e\\'] < 1e-10)  ] # & (df0_all[\\'odds_e\\'] > 30)\\n#df3.shape[0]\\n#print(\"-\")\\ndf4_all.shape[0]\\n'"
            ]
          },
          "metadata": {},
          "execution_count": 26
        },
        {
          "output_type": "stream",
          "name": "stdout",
          "text": [
            "-\n"
          ]
        },
        {
          "output_type": "execute_result",
          "data": {
            "text/plain": [
              "9"
            ]
          },
          "metadata": {},
          "execution_count": 26
        },
        {
          "output_type": "stream",
          "name": "stdout",
          "text": [
            "-\n"
          ]
        },
        {
          "output_type": "execute_result",
          "data": {
            "text/plain": [
              "3"
            ]
          },
          "metadata": {},
          "execution_count": 26
        }
      ]
    },
    {
      "cell_type": "code",
      "metadata": {
        "colab": {
          "base_uri": "https://localhost:8080/"
        },
        "id": "3BigVrcc1dge",
        "outputId": "80cd514d-816d-46f2-a1d6-343c450e5bb5"
      },
      "source": [
        "import scipy.stats as stats   \n",
        "stats.hypergeom.sf(11,2608,17,363, loc=0) # 1.4347315141149705e-07\n",
        "#pvalue = 1-stats.hypergeom.cdf(45, 7518, 92. 1329)\n",
        "#stats.hypergeom.sf(x,M,n,N,loc=0)\n",
        "stats.hypergeom.sf(9,2608,12,363, loc=0) # 1.4347315141149705e-07\n"
      ],
      "execution_count": 28,
      "outputs": [
        {
          "output_type": "execute_result",
          "data": {
            "text/plain": [
              "1.4347315141149705e-07"
            ]
          },
          "metadata": {},
          "execution_count": 28
        },
        {
          "output_type": "execute_result",
          "data": {
            "text/plain": [
              "1.2423843845265296e-07"
            ]
          },
          "metadata": {},
          "execution_count": 28
        }
      ]
    },
    {
      "cell_type": "code",
      "metadata": {
        "id": "89zi4E1K9IZJ"
      },
      "source": [
        "data = {'CADs' : df1['odds_e'], 'nonCADs' : df3['odds_e']}\n",
        "\n",
        "df_merged = pd.concat(data, \n",
        "               axis = 1)\n",
        "\n",
        "\n",
        "data_all = {'CADs' : df1_all['odds_e'], 'nonCADs' : df3_all['odds_e']}\n",
        "\n",
        "df_all_merged = pd.concat(data_all, \n",
        "               axis = 1)"
      ],
      "execution_count": 29,
      "outputs": []
    },
    {
      "cell_type": "code",
      "metadata": {
        "colab": {
          "base_uri": "https://localhost:8080/"
        },
        "id": "YYW9Kg676MV5",
        "outputId": "f5cf851c-878e-45e7-ece2-2aae70881ce1"
      },
      "source": [
        "'''from google.colab import drive\n",
        "drive.mount('/drive')'''\n"
      ],
      "execution_count": 71,
      "outputs": [
        {
          "output_type": "stream",
          "text": [
            "Mounted at /drive\n"
          ],
          "name": "stdout"
        }
      ]
    },
    {
      "cell_type": "code",
      "metadata": {
        "id": "1v23XSa76VTh"
      },
      "source": [
        "#df_merged.to_csv('/drive/My Drive/WashU/Data/SSRIs/FOR_PAPER/SARS-CoV-2-CADs-analysis/for_graphpad_SARS_COV2_ge_CADs_nonCADs_odds_ratio.csv', index=False)\n",
        "#df_merged.to_csv('/Users/timpeterson/OneDrive-v3/Data/CADs/v2/for_graphpad_SARS_COV2_ge_CADs_nonCADs_odds_ratio.csv', index=False)\n",
        "\n",
        "\n",
        "\n",
        "#df_all_merged.to_csv('/drive/My Drive/WashU/Data/SSRIs/FOR_PAPER/SARS-CoV-2-CADs-analysis/for_graphpad_all_pathogens_ge_CADs_nonCADs_odds_ratio_475genes.csv', index=False)\n",
        "df_all_merged.to_csv('/Users/timpeterson/OneDrive-v3/Data/CADs/v2/for_graphpad_all_pathogens_ge_CADs_nonCADs_odds_ratio_475genes.csv', index=False)"
      ],
      "execution_count": 31,
      "outputs": []
    },
    {
      "cell_type": "code",
      "metadata": {
        "colab": {
          "base_uri": "https://localhost:8080/",
          "height": 235
        },
        "id": "c7jgI_7Zgh5v",
        "outputId": "6c209f78-e595-4c8e-c055-ce6615c42063"
      },
      "source": [
        "#df_all.head()\n",
        "\n",
        "# define bin ranges\n",
        "bins_A = np.arange(-14, 15)\n",
        "bins_B = np.arange(-14, 15)\n",
        "\n",
        "\n",
        "df0_all['TA_pka_'] = pd.cut(df0_all['pka_'],bins=bins_A)\n",
        "df0_all['TB_logP_'] = pd.cut(df0_all['logP_'],bins=bins_B)\n",
        "df_out = df0_all.groupby(['TA_pka_','TB_logP_'])['odds_e'].describe()\n",
        "\n",
        "df_out0 = df_out.sort_values('mean', ascending=False)\n",
        "\n",
        "df_out0.head()\n"
      ],
      "execution_count": 115,
      "outputs": [
        {
          "output_type": "execute_result",
          "data": {
            "text/html": [
              "<div>\n",
              "<style scoped>\n",
              "    .dataframe tbody tr th:only-of-type {\n",
              "        vertical-align: middle;\n",
              "    }\n",
              "\n",
              "    .dataframe tbody tr th {\n",
              "        vertical-align: top;\n",
              "    }\n",
              "\n",
              "    .dataframe thead th {\n",
              "        text-align: right;\n",
              "    }\n",
              "</style>\n",
              "<table border=\"1\" class=\"dataframe\">\n",
              "  <thead>\n",
              "    <tr style=\"text-align: right;\">\n",
              "      <th></th>\n",
              "      <th></th>\n",
              "      <th>count</th>\n",
              "      <th>mean</th>\n",
              "      <th>std</th>\n",
              "      <th>min</th>\n",
              "      <th>25%</th>\n",
              "      <th>50%</th>\n",
              "      <th>75%</th>\n",
              "      <th>max</th>\n",
              "    </tr>\n",
              "    <tr>\n",
              "      <th>TA_pka_</th>\n",
              "      <th>TB_logP_</th>\n",
              "      <th></th>\n",
              "      <th></th>\n",
              "      <th></th>\n",
              "      <th></th>\n",
              "      <th></th>\n",
              "      <th></th>\n",
              "      <th></th>\n",
              "      <th></th>\n",
              "    </tr>\n",
              "  </thead>\n",
              "  <tbody>\n",
              "    <tr>\n",
              "      <th>(11, 12]</th>\n",
              "      <th>(-3, -2]</th>\n",
              "      <td>1.0</td>\n",
              "      <td>24.8344</td>\n",
              "      <td>NaN</td>\n",
              "      <td>24.8344</td>\n",
              "      <td>24.8344</td>\n",
              "      <td>24.8344</td>\n",
              "      <td>24.83440</td>\n",
              "      <td>24.8344</td>\n",
              "    </tr>\n",
              "    <tr>\n",
              "      <th>(10, 11]</th>\n",
              "      <th>(6, 7]</th>\n",
              "      <td>3.0</td>\n",
              "      <td>24.7929</td>\n",
              "      <td>10.415764</td>\n",
              "      <td>16.8988</td>\n",
              "      <td>18.8903</td>\n",
              "      <td>20.8818</td>\n",
              "      <td>28.73995</td>\n",
              "      <td>36.5981</td>\n",
              "    </tr>\n",
              "    <tr>\n",
              "      <th>(-6, -5]</th>\n",
              "      <th>(9, 10]</th>\n",
              "      <td>1.0</td>\n",
              "      <td>22.0751</td>\n",
              "      <td>NaN</td>\n",
              "      <td>22.0751</td>\n",
              "      <td>22.0751</td>\n",
              "      <td>22.0751</td>\n",
              "      <td>22.07510</td>\n",
              "      <td>22.0751</td>\n",
              "    </tr>\n",
              "    <tr>\n",
              "      <th>(3, 4]</th>\n",
              "      <th>(5, 6]</th>\n",
              "      <td>1.0</td>\n",
              "      <td>21.1921</td>\n",
              "      <td>NaN</td>\n",
              "      <td>21.1921</td>\n",
              "      <td>21.1921</td>\n",
              "      <td>21.1921</td>\n",
              "      <td>21.19210</td>\n",
              "      <td>21.1921</td>\n",
              "    </tr>\n",
              "    <tr>\n",
              "      <th>(7, 8]</th>\n",
              "      <th>(-5, -4]</th>\n",
              "      <td>1.0</td>\n",
              "      <td>21.1921</td>\n",
              "      <td>NaN</td>\n",
              "      <td>21.1921</td>\n",
              "      <td>21.1921</td>\n",
              "      <td>21.1921</td>\n",
              "      <td>21.19210</td>\n",
              "      <td>21.1921</td>\n",
              "    </tr>\n",
              "  </tbody>\n",
              "</table>\n",
              "</div>"
            ],
            "text/plain": [
              "                   count     mean        std  ...      50%       75%      max\n",
              "TA_pka_  TB_logP_                             ...                            \n",
              "(11, 12] (-3, -2]    1.0  24.8344        NaN  ...  24.8344  24.83440  24.8344\n",
              "(10, 11] (6, 7]      3.0  24.7929  10.415764  ...  20.8818  28.73995  36.5981\n",
              "(-6, -5] (9, 10]     1.0  22.0751        NaN  ...  22.0751  22.07510  22.0751\n",
              "(3, 4]   (5, 6]      1.0  21.1921        NaN  ...  21.1921  21.19210  21.1921\n",
              "(7, 8]   (-5, -4]    1.0  21.1921        NaN  ...  21.1921  21.19210  21.1921\n",
              "\n",
              "[5 rows x 8 columns]"
            ]
          },
          "metadata": {
            "tags": []
          },
          "execution_count": 115
        }
      ]
    },
    {
      "cell_type": "code",
      "metadata": {
        "colab": {
          "base_uri": "https://localhost:8080/",
          "height": 500
        },
        "id": "7ED5EfGr8b2U",
        "outputId": "20233662-4ee2-443c-87b6-a37ad4a9c7c4"
      },
      "source": [
        "import matplotlib.pyplot as plt\n",
        "\n",
        "df_out0_gt1 = df_out0[df_out0['count'] > 1]\n",
        "\n",
        "df_out0_gt1.head()\n",
        "\n",
        "plt.bar(df_out0_gt1['mean'], df_out0_gt1['count'])\n"
      ],
      "execution_count": 116,
      "outputs": [
        {
          "output_type": "execute_result",
          "data": {
            "text/html": [
              "<div>\n",
              "<style scoped>\n",
              "    .dataframe tbody tr th:only-of-type {\n",
              "        vertical-align: middle;\n",
              "    }\n",
              "\n",
              "    .dataframe tbody tr th {\n",
              "        vertical-align: top;\n",
              "    }\n",
              "\n",
              "    .dataframe thead th {\n",
              "        text-align: right;\n",
              "    }\n",
              "</style>\n",
              "<table border=\"1\" class=\"dataframe\">\n",
              "  <thead>\n",
              "    <tr style=\"text-align: right;\">\n",
              "      <th></th>\n",
              "      <th></th>\n",
              "      <th>count</th>\n",
              "      <th>mean</th>\n",
              "      <th>std</th>\n",
              "      <th>min</th>\n",
              "      <th>25%</th>\n",
              "      <th>50%</th>\n",
              "      <th>75%</th>\n",
              "      <th>max</th>\n",
              "    </tr>\n",
              "    <tr>\n",
              "      <th>TA_pka_</th>\n",
              "      <th>TB_logP_</th>\n",
              "      <th></th>\n",
              "      <th></th>\n",
              "      <th></th>\n",
              "      <th></th>\n",
              "      <th></th>\n",
              "      <th></th>\n",
              "      <th></th>\n",
              "      <th></th>\n",
              "    </tr>\n",
              "  </thead>\n",
              "  <tbody>\n",
              "    <tr>\n",
              "      <th>(10, 11]</th>\n",
              "      <th>(6, 7]</th>\n",
              "      <td>3.0</td>\n",
              "      <td>24.792900</td>\n",
              "      <td>10.415764</td>\n",
              "      <td>16.89880</td>\n",
              "      <td>18.890300</td>\n",
              "      <td>20.88180</td>\n",
              "      <td>28.73995</td>\n",
              "      <td>36.5981</td>\n",
              "    </tr>\n",
              "    <tr>\n",
              "      <th>(9, 10]</th>\n",
              "      <th>(5, 6]</th>\n",
              "      <td>22.0</td>\n",
              "      <td>15.576075</td>\n",
              "      <td>11.972601</td>\n",
              "      <td>1.20409</td>\n",
              "      <td>4.927467</td>\n",
              "      <td>15.10585</td>\n",
              "      <td>22.29725</td>\n",
              "      <td>41.3907</td>\n",
              "    </tr>\n",
              "    <tr>\n",
              "      <th>(-4, -3]</th>\n",
              "      <th>(6, 7]</th>\n",
              "      <td>4.0</td>\n",
              "      <td>15.047135</td>\n",
              "      <td>9.366973</td>\n",
              "      <td>2.06954</td>\n",
              "      <td>11.805785</td>\n",
              "      <td>17.13895</td>\n",
              "      <td>20.38030</td>\n",
              "      <td>23.8411</td>\n",
              "    </tr>\n",
              "    <tr>\n",
              "      <th>(9, 10]</th>\n",
              "      <th>(6, 7]</th>\n",
              "      <td>7.0</td>\n",
              "      <td>13.807690</td>\n",
              "      <td>12.846202</td>\n",
              "      <td>3.15358</td>\n",
              "      <td>3.981395</td>\n",
              "      <td>6.30716</td>\n",
              "      <td>21.95510</td>\n",
              "      <td>35.3201</td>\n",
              "    </tr>\n",
              "    <tr>\n",
              "      <th>(-1, 0]</th>\n",
              "      <th>(-2, -1]</th>\n",
              "      <td>5.0</td>\n",
              "      <td>13.516772</td>\n",
              "      <td>8.387476</td>\n",
              "      <td>2.20751</td>\n",
              "      <td>8.949350</td>\n",
              "      <td>14.71670</td>\n",
              "      <td>17.42770</td>\n",
              "      <td>24.2826</td>\n",
              "    </tr>\n",
              "  </tbody>\n",
              "</table>\n",
              "</div>"
            ],
            "text/plain": [
              "                   count       mean        std  ...       50%       75%      max\n",
              "TA_pka_  TB_logP_                               ...                             \n",
              "(10, 11] (6, 7]      3.0  24.792900  10.415764  ...  20.88180  28.73995  36.5981\n",
              "(9, 10]  (5, 6]     22.0  15.576075  11.972601  ...  15.10585  22.29725  41.3907\n",
              "(-4, -3] (6, 7]      4.0  15.047135   9.366973  ...  17.13895  20.38030  23.8411\n",
              "(9, 10]  (6, 7]      7.0  13.807690  12.846202  ...   6.30716  21.95510  35.3201\n",
              "(-1, 0]  (-2, -1]    5.0  13.516772   8.387476  ...  14.71670  17.42770  24.2826\n",
              "\n",
              "[5 rows x 8 columns]"
            ]
          },
          "metadata": {
            "tags": []
          },
          "execution_count": 116
        },
        {
          "output_type": "execute_result",
          "data": {
            "text/plain": [
              "<BarContainer object of 170 artists>"
            ]
          },
          "metadata": {
            "tags": []
          },
          "execution_count": 116
        },
        {
          "output_type": "display_data",
          "data": {
            "image/png": "[encoded data removed]",
            "text/plain": [
              "<Figure size 432x288 with 1 Axes>"
            ]
          },
          "metadata": {
            "tags": [],
            "needs_background": "light"
          }
        }
      ]
    },
    {
      "cell_type": "code",
      "metadata": {
        "colab": {
          "base_uri": "https://localhost:8080/"
        },
        "id": "cK5f0gZHFCpD",
        "outputId": "97500d30-334a-420b-a28b-686ffd648b8b"
      },
      "source": [
        "df_out0_gt1.shape"
      ],
      "execution_count": 107,
      "outputs": [
        {
          "output_type": "execute_result",
          "data": {
            "text/plain": [
              "(210, 8)"
            ]
          },
          "metadata": {
            "tags": []
          },
          "execution_count": 107
        }
      ]
    },
    {
      "cell_type": "code",
      "metadata": {
        "id": "fZGgowFiwnSw"
      },
      "source": [
        "df_out0.to_csv('/drive/My Drive/WashU/Data/SSRIs/FOR_PAPER/SARS-CoV-2-CADs-analysis/for_graphpad_all_pathogens_ge_CADs_nonCADs_odds_ratio_binned_by_pka_clogP_sorted.csv')"
      ],
      "execution_count": 117,
      "outputs": []
    },
    {
      "cell_type": "code",
      "metadata": {
        "colab": {
          "base_uri": "https://localhost:8080/",
          "height": 439
        },
        "id": "g1aVcyRCFzEf",
        "outputId": "02188acc-b312-4a16-bd15-51b87590645e"
      },
      "source": [
        "tagsA = np.searchsorted(bins_A,df_all.pka_)\n",
        "tagsB = np.searchsorted(bins_B,df_all.logP_)\n",
        "\n",
        "vm = (tagsB>0) & (tagsB<len(bins_B)) & (tagsA>0) & (tagsA<len(bins_A))\n",
        "\n",
        "dfm = df_all.iloc[vm]\n",
        "\n",
        "dfm['TA_pka'] = bins_A[(tagsA-1)[vm]]\n",
        "dfm['TB_logP'] = bins_B[(tagsB-1)[vm]]\n",
        "\n",
        "df_out_v1 = dfm.groupby(['TA_pka','TB_logP'])['odds_e'].describe()\n",
        "\n",
        "df_out_v10 = df_out_v1.sort_values('mean', ascending=False)\n",
        "\n",
        "df_out_v10.head()\n"
      ],
      "execution_count": 113,
      "outputs": [
        {
          "output_type": "stream",
          "text": [
            "/usr/local/lib/python3.6/dist-packages/ipykernel_launcher.py:8: SettingWithCopyWarning: \n",
            "A value is trying to be set on a copy of a slice from a DataFrame.\n",
            "Try using .loc[row_indexer,col_indexer] = value instead\n",
            "\n",
            "See the caveats in the documentation: https://pandas.pydata.org/pandas-docs/stable/user_guide/indexing.html#returning-a-view-versus-a-copy\n",
            "  \n",
            "/usr/local/lib/python3.6/dist-packages/ipykernel_launcher.py:9: SettingWithCopyWarning: \n",
            "A value is trying to be set on a copy of a slice from a DataFrame.\n",
            "Try using .loc[row_indexer,col_indexer] = value instead\n",
            "\n",
            "See the caveats in the documentation: https://pandas.pydata.org/pandas-docs/stable/user_guide/indexing.html#returning-a-view-versus-a-copy\n",
            "  if __name__ == '__main__':\n"
          ],
          "name": "stderr"
        },
        {
          "output_type": "execute_result",
          "data": {
            "text/html": [
              "<div>\n",
              "<style scoped>\n",
              "    .dataframe tbody tr th:only-of-type {\n",
              "        vertical-align: middle;\n",
              "    }\n",
              "\n",
              "    .dataframe tbody tr th {\n",
              "        vertical-align: top;\n",
              "    }\n",
              "\n",
              "    .dataframe thead th {\n",
              "        text-align: right;\n",
              "    }\n",
              "</style>\n",
              "<table border=\"1\" class=\"dataframe\">\n",
              "  <thead>\n",
              "    <tr style=\"text-align: right;\">\n",
              "      <th></th>\n",
              "      <th></th>\n",
              "      <th>count</th>\n",
              "      <th>mean</th>\n",
              "      <th>std</th>\n",
              "      <th>min</th>\n",
              "      <th>25%</th>\n",
              "      <th>50%</th>\n",
              "      <th>75%</th>\n",
              "      <th>max</th>\n",
              "    </tr>\n",
              "    <tr>\n",
              "      <th>TA_pka</th>\n",
              "      <th>TB_logP</th>\n",
              "      <th></th>\n",
              "      <th></th>\n",
              "      <th></th>\n",
              "      <th></th>\n",
              "      <th></th>\n",
              "      <th></th>\n",
              "      <th></th>\n",
              "      <th></th>\n",
              "    </tr>\n",
              "  </thead>\n",
              "  <tbody>\n",
              "    <tr>\n",
              "      <th>-7</th>\n",
              "      <th>-1</th>\n",
              "      <td>1.0</td>\n",
              "      <td>36.1228</td>\n",
              "      <td>NaN</td>\n",
              "      <td>36.1228</td>\n",
              "      <td>36.1228</td>\n",
              "      <td>36.1228</td>\n",
              "      <td>36.1228</td>\n",
              "      <td>36.1228</td>\n",
              "    </tr>\n",
              "    <tr>\n",
              "      <th>-6</th>\n",
              "      <th>10</th>\n",
              "      <td>1.0</td>\n",
              "      <td>22.0751</td>\n",
              "      <td>NaN</td>\n",
              "      <td>22.0751</td>\n",
              "      <td>22.0751</td>\n",
              "      <td>22.0751</td>\n",
              "      <td>22.0751</td>\n",
              "      <td>22.0751</td>\n",
              "    </tr>\n",
              "    <tr>\n",
              "      <th>7</th>\n",
              "      <th>-4</th>\n",
              "      <td>1.0</td>\n",
              "      <td>22.0751</td>\n",
              "      <td>NaN</td>\n",
              "      <td>22.0751</td>\n",
              "      <td>22.0751</td>\n",
              "      <td>22.0751</td>\n",
              "      <td>22.0751</td>\n",
              "      <td>22.0751</td>\n",
              "    </tr>\n",
              "    <tr>\n",
              "      <th>-6</th>\n",
              "      <th>8</th>\n",
              "      <td>1.0</td>\n",
              "      <td>22.0751</td>\n",
              "      <td>NaN</td>\n",
              "      <td>22.0751</td>\n",
              "      <td>22.0751</td>\n",
              "      <td>22.0751</td>\n",
              "      <td>22.0751</td>\n",
              "      <td>22.0751</td>\n",
              "    </tr>\n",
              "    <tr>\n",
              "      <th>3</th>\n",
              "      <th>5</th>\n",
              "      <td>1.0</td>\n",
              "      <td>21.1921</td>\n",
              "      <td>NaN</td>\n",
              "      <td>21.1921</td>\n",
              "      <td>21.1921</td>\n",
              "      <td>21.1921</td>\n",
              "      <td>21.1921</td>\n",
              "      <td>21.1921</td>\n",
              "    </tr>\n",
              "  </tbody>\n",
              "</table>\n",
              "</div>"
            ],
            "text/plain": [
              "                count     mean  std  ...      50%      75%      max\n",
              "TA_pka TB_logP                       ...                           \n",
              "-7     -1         1.0  36.1228  NaN  ...  36.1228  36.1228  36.1228\n",
              "-6      10        1.0  22.0751  NaN  ...  22.0751  22.0751  22.0751\n",
              " 7     -4         1.0  22.0751  NaN  ...  22.0751  22.0751  22.0751\n",
              "-6      8         1.0  22.0751  NaN  ...  22.0751  22.0751  22.0751\n",
              " 3      5         1.0  21.1921  NaN  ...  21.1921  21.1921  21.1921\n",
              "\n",
              "[5 rows x 8 columns]"
            ]
          },
          "metadata": {
            "tags": []
          },
          "execution_count": 113
        }
      ]
    }
  ]
}